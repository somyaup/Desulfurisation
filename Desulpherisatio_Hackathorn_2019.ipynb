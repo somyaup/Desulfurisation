{
  "nbformat": 4,
  "nbformat_minor": 0,
  "metadata": {
    "colab": {
      "name": "Desulpherisatio Hackathorn 2019.ipynb",
      "provenance": [],
      "include_colab_link": true
    },
    "kernelspec": {
      "name": "python3",
      "display_name": "Python 3"
    }
  },
  "cells": [
    {
      "cell_type": "markdown",
      "metadata": {
        "id": "view-in-github",
        "colab_type": "text"
      },
      "source": [
        "<a href=\"https://colab.research.google.com/github/somyaup/Desulphurisation-using-Gradient-descent/blob/main/Desulpherisatio_Hackathorn_2019.ipynb\" target=\"_parent\"><img src=\"https://colab.research.google.com/assets/colab-badge.svg\" alt=\"Open In Colab\"/></a>"
      ]
    },
    {
      "cell_type": "code",
      "metadata": {
        "id": "4FEZ0f2y5kKM",
        "colab": {
          "base_uri": "https://localhost:8080/",
          "height": 718
        },
        "outputId": "b0162079-ed49-459d-8049-d8baab4e6518"
      },
      "source": [
        "pip install tensorflow"
      ],
      "execution_count": null,
      "outputs": [
        {
          "output_type": "stream",
          "text": [
            "Requirement already satisfied: tensorflow in /usr/local/lib/python3.6/dist-packages (2.2.0)\n",
            "Requirement already satisfied: tensorflow-estimator<2.3.0,>=2.2.0 in /usr/local/lib/python3.6/dist-packages (from tensorflow) (2.2.0)\n",
            "Requirement already satisfied: astunparse==1.6.3 in /usr/local/lib/python3.6/dist-packages (from tensorflow) (1.6.3)\n",
            "Requirement already satisfied: absl-py>=0.7.0 in /usr/local/lib/python3.6/dist-packages (from tensorflow) (0.9.0)\n",
            "Requirement already satisfied: numpy<2.0,>=1.16.0 in /usr/local/lib/python3.6/dist-packages (from tensorflow) (1.18.5)\n",
            "Requirement already satisfied: opt-einsum>=2.3.2 in /usr/local/lib/python3.6/dist-packages (from tensorflow) (3.2.1)\n",
            "Requirement already satisfied: google-pasta>=0.1.8 in /usr/local/lib/python3.6/dist-packages (from tensorflow) (0.2.0)\n",
            "Requirement already satisfied: h5py<2.11.0,>=2.10.0 in /usr/local/lib/python3.6/dist-packages (from tensorflow) (2.10.0)\n",
            "Requirement already satisfied: gast==0.3.3 in /usr/local/lib/python3.6/dist-packages (from tensorflow) (0.3.3)\n",
            "Requirement already satisfied: grpcio>=1.8.6 in /usr/local/lib/python3.6/dist-packages (from tensorflow) (1.30.0)\n",
            "Requirement already satisfied: wrapt>=1.11.1 in /usr/local/lib/python3.6/dist-packages (from tensorflow) (1.12.1)\n",
            "Requirement already satisfied: termcolor>=1.1.0 in /usr/local/lib/python3.6/dist-packages (from tensorflow) (1.1.0)\n",
            "Requirement already satisfied: six>=1.12.0 in /usr/local/lib/python3.6/dist-packages (from tensorflow) (1.12.0)\n",
            "Requirement already satisfied: scipy==1.4.1; python_version >= \"3\" in /usr/local/lib/python3.6/dist-packages (from tensorflow) (1.4.1)\n",
            "Requirement already satisfied: tensorboard<2.3.0,>=2.2.0 in /usr/local/lib/python3.6/dist-packages (from tensorflow) (2.2.2)\n",
            "Requirement already satisfied: keras-preprocessing>=1.1.0 in /usr/local/lib/python3.6/dist-packages (from tensorflow) (1.1.2)\n",
            "Requirement already satisfied: wheel>=0.26; python_version >= \"3\" in /usr/local/lib/python3.6/dist-packages (from tensorflow) (0.34.2)\n",
            "Requirement already satisfied: protobuf>=3.8.0 in /usr/local/lib/python3.6/dist-packages (from tensorflow) (3.10.0)\n",
            "Requirement already satisfied: google-auth<2,>=1.6.3 in /usr/local/lib/python3.6/dist-packages (from tensorboard<2.3.0,>=2.2.0->tensorflow) (1.17.2)\n",
            "Requirement already satisfied: werkzeug>=0.11.15 in /usr/local/lib/python3.6/dist-packages (from tensorboard<2.3.0,>=2.2.0->tensorflow) (1.0.1)\n",
            "Requirement already satisfied: requests<3,>=2.21.0 in /usr/local/lib/python3.6/dist-packages (from tensorboard<2.3.0,>=2.2.0->tensorflow) (2.23.0)\n",
            "Requirement already satisfied: markdown>=2.6.8 in /usr/local/lib/python3.6/dist-packages (from tensorboard<2.3.0,>=2.2.0->tensorflow) (3.2.2)\n",
            "Requirement already satisfied: tensorboard-plugin-wit>=1.6.0 in /usr/local/lib/python3.6/dist-packages (from tensorboard<2.3.0,>=2.2.0->tensorflow) (1.7.0)\n",
            "Requirement already satisfied: google-auth-oauthlib<0.5,>=0.4.1 in /usr/local/lib/python3.6/dist-packages (from tensorboard<2.3.0,>=2.2.0->tensorflow) (0.4.1)\n",
            "Requirement already satisfied: setuptools>=41.0.0 in /usr/local/lib/python3.6/dist-packages (from tensorboard<2.3.0,>=2.2.0->tensorflow) (49.1.0)\n",
            "Requirement already satisfied: pyasn1-modules>=0.2.1 in /usr/local/lib/python3.6/dist-packages (from google-auth<2,>=1.6.3->tensorboard<2.3.0,>=2.2.0->tensorflow) (0.2.8)\n",
            "Requirement already satisfied: rsa<5,>=3.1.4; python_version >= \"3\" in /usr/local/lib/python3.6/dist-packages (from google-auth<2,>=1.6.3->tensorboard<2.3.0,>=2.2.0->tensorflow) (4.6)\n",
            "Requirement already satisfied: cachetools<5.0,>=2.0.0 in /usr/local/lib/python3.6/dist-packages (from google-auth<2,>=1.6.3->tensorboard<2.3.0,>=2.2.0->tensorflow) (4.1.1)\n",
            "Requirement already satisfied: certifi>=2017.4.17 in /usr/local/lib/python3.6/dist-packages (from requests<3,>=2.21.0->tensorboard<2.3.0,>=2.2.0->tensorflow) (2020.6.20)\n",
            "Requirement already satisfied: idna<3,>=2.5 in /usr/local/lib/python3.6/dist-packages (from requests<3,>=2.21.0->tensorboard<2.3.0,>=2.2.0->tensorflow) (2.10)\n",
            "Requirement already satisfied: urllib3!=1.25.0,!=1.25.1,<1.26,>=1.21.1 in /usr/local/lib/python3.6/dist-packages (from requests<3,>=2.21.0->tensorboard<2.3.0,>=2.2.0->tensorflow) (1.24.3)\n",
            "Requirement already satisfied: chardet<4,>=3.0.2 in /usr/local/lib/python3.6/dist-packages (from requests<3,>=2.21.0->tensorboard<2.3.0,>=2.2.0->tensorflow) (3.0.4)\n",
            "Requirement already satisfied: importlib-metadata; python_version < \"3.8\" in /usr/local/lib/python3.6/dist-packages (from markdown>=2.6.8->tensorboard<2.3.0,>=2.2.0->tensorflow) (1.7.0)\n",
            "Requirement already satisfied: requests-oauthlib>=0.7.0 in /usr/local/lib/python3.6/dist-packages (from google-auth-oauthlib<0.5,>=0.4.1->tensorboard<2.3.0,>=2.2.0->tensorflow) (1.3.0)\n",
            "Requirement already satisfied: pyasn1<0.5.0,>=0.4.6 in /usr/local/lib/python3.6/dist-packages (from pyasn1-modules>=0.2.1->google-auth<2,>=1.6.3->tensorboard<2.3.0,>=2.2.0->tensorflow) (0.4.8)\n",
            "Requirement already satisfied: zipp>=0.5 in /usr/local/lib/python3.6/dist-packages (from importlib-metadata; python_version < \"3.8\"->markdown>=2.6.8->tensorboard<2.3.0,>=2.2.0->tensorflow) (3.1.0)\n",
            "Requirement already satisfied: oauthlib>=3.0.0 in /usr/local/lib/python3.6/dist-packages (from requests-oauthlib>=0.7.0->google-auth-oauthlib<0.5,>=0.4.1->tensorboard<2.3.0,>=2.2.0->tensorflow) (3.1.0)\n"
          ],
          "name": "stdout"
        }
      ]
    },
    {
      "cell_type": "code",
      "metadata": {
        "id": "Mg-mL6KT5wGb",
        "colab": {
          "base_uri": "https://localhost:8080/",
          "height": 111
        },
        "outputId": "d047db5b-65b4-480d-a611-410f64d4887e"
      },
      "source": [
        "pip install utils"
      ],
      "execution_count": null,
      "outputs": [
        {
          "output_type": "stream",
          "text": [
            "Collecting utils\n",
            "  Downloading https://files.pythonhosted.org/packages/55/e6/c2d2b2703e7debc8b501caae0e6f7ead148fd0faa3c8131292a599930029/utils-1.0.1-py2.py3-none-any.whl\n",
            "Installing collected packages: utils\n",
            "Successfully installed utils-1.0.1\n"
          ],
          "name": "stdout"
        }
      ]
    },
    {
      "cell_type": "code",
      "metadata": {
        "id": "_yxTwI7c5yZl",
        "colab": {
          "base_uri": "https://localhost:8080/",
          "height": 35
        },
        "outputId": "3caafb18-3f5e-4688-ca8e-f1f640ff1b1c"
      },
      "source": [
        "import tensorflow as tf\n",
        "print(tf.__version__)"
      ],
      "execution_count": null,
      "outputs": [
        {
          "output_type": "stream",
          "text": [
            "2.2.0\n"
          ],
          "name": "stdout"
        }
      ]
    },
    {
      "cell_type": "code",
      "metadata": {
        "id": "KNa3t9jl5_Eo"
      },
      "source": [
        "import os\n",
        "import pickle\n",
        "import random\n",
        "import numpy as np\n",
        "import pandas as pd\n",
        "from sklearn.model_selection import train_test_split\n",
        "from sklearn.linear_model import LinearRegression"
      ],
      "execution_count": null,
      "outputs": []
    },
    {
      "cell_type": "code",
      "metadata": {
        "id": "AeDQuex58V-m",
        "colab": {
          "base_uri": "https://localhost:8080/",
          "height": 35
        },
        "outputId": "ab834558-51b8-426d-8653-f79057fafc4d"
      },
      "source": [
        "import matplotlib.pyplot as plt\n",
        "import tensorflow as tf\n",
        "\n",
        "from utils import *\n",
        "from sklearn.model_selection import train_test_split\n",
        "from tensorflow.keras.models import Sequential\n",
        "from tensorflow.keras.layers import Dense, Dropout\n",
        "from tensorflow.keras.callbacks import EarlyStopping, LambdaCallback\n",
        "\n",
        "%matplotlib inline\n",
        "#tf.logging.set_verbosity(tf.logging.ERROR)\n",
        "\n",
        "print('Libraries imported.')"
      ],
      "execution_count": null,
      "outputs": [
        {
          "output_type": "stream",
          "text": [
            "Libraries imported.\n"
          ],
          "name": "stdout"
        }
      ]
    },
    {
      "cell_type": "code",
      "metadata": {
        "id": "8QROOBD36Gf7",
        "colab": {
          "base_uri": "https://localhost:8080/",
          "height": 380
        },
        "outputId": "037f2af4-fbda-4b43-f4aa-2d166b28d8c6"
      },
      "source": [
        "def build_model():\n",
        "    # build your model here return the model\n",
        "    # you can change the function arguments as per need\n",
        "    # a sample is provided for your reference\n",
        "    '''\n",
        "    clf = LinearRegression()\n",
        "    clf.fit(X,y)\n",
        "    '''\n",
        "    model = Sequential([\n",
        "        Dense(1024, input_shape = (12,), activation = 'relu'),\n",
        "        Dense(512, activation = 'relu'),\n",
        "        Dense(256, activation = 'relu'),\n",
        "        Dense(128, activation = 'relu'),\n",
        "        Dense(11, activation = 'relu'),\n",
        "        Dense(1)\n",
        "    ])\n",
        "\n",
        "    model.compile(\n",
        "        loss='mse',\n",
        "        optimizer='adadelta'\n",
        "    )\n",
        "    return model\n",
        "\n",
        "\n",
        "build_model().summary()"
      ],
      "execution_count": null,
      "outputs": [
        {
          "output_type": "error",
          "ename": "TypeError",
          "evalue": "ignored",
          "traceback": [
            "\u001b[0;31m---------------------------------------------------------------------------\u001b[0m",
            "\u001b[0;31mTypeError\u001b[0m                                 Traceback (most recent call last)",
            "\u001b[0;32m<ipython-input-150-fa7688f450e3>\u001b[0m in \u001b[0;36m<module>\u001b[0;34m()\u001b[0m\n\u001b[1;32m     23\u001b[0m \u001b[0;34m\u001b[0m\u001b[0m\n\u001b[1;32m     24\u001b[0m \u001b[0;34m\u001b[0m\u001b[0m\n\u001b[0;32m---> 25\u001b[0;31m \u001b[0mbuild_model\u001b[0m\u001b[0;34m(\u001b[0m\u001b[0;34m)\u001b[0m\u001b[0;34m.\u001b[0m\u001b[0msummary\u001b[0m\u001b[0;34m(\u001b[0m\u001b[0;34m)\u001b[0m\u001b[0;34m\u001b[0m\u001b[0;34m\u001b[0m\u001b[0m\n\u001b[0m",
            "\u001b[0;32m<ipython-input-150-fa7688f450e3>\u001b[0m in \u001b[0;36mbuild_model\u001b[0;34m()\u001b[0m\n\u001b[1;32m      8\u001b[0m     '''\n\u001b[1;32m      9\u001b[0m     model = Sequential([\n\u001b[0;32m---> 10\u001b[0;31m         \u001b[0mDense\u001b[0m\u001b[0;34m(\u001b[0m\u001b[0;36m1024\u001b[0m\u001b[0;34m,\u001b[0m \u001b[0minput_shape\u001b[0m \u001b[0;34m=\u001b[0m \u001b[0;34m(\u001b[0m\u001b[0;36m12\u001b[0m\u001b[0;34m)\u001b[0m\u001b[0;34m,\u001b[0m \u001b[0mactivation\u001b[0m \u001b[0;34m=\u001b[0m \u001b[0;34m'relu'\u001b[0m\u001b[0;34m)\u001b[0m\u001b[0;34m,\u001b[0m\u001b[0;34m\u001b[0m\u001b[0;34m\u001b[0m\u001b[0m\n\u001b[0m\u001b[1;32m     11\u001b[0m         \u001b[0mDense\u001b[0m\u001b[0;34m(\u001b[0m\u001b[0;36m512\u001b[0m\u001b[0;34m,\u001b[0m \u001b[0mactivation\u001b[0m \u001b[0;34m=\u001b[0m \u001b[0;34m'relu'\u001b[0m\u001b[0;34m)\u001b[0m\u001b[0;34m,\u001b[0m\u001b[0;34m\u001b[0m\u001b[0;34m\u001b[0m\u001b[0m\n\u001b[1;32m     12\u001b[0m         \u001b[0mDense\u001b[0m\u001b[0;34m(\u001b[0m\u001b[0;36m256\u001b[0m\u001b[0;34m,\u001b[0m \u001b[0mactivation\u001b[0m \u001b[0;34m=\u001b[0m \u001b[0;34m'relu'\u001b[0m\u001b[0;34m)\u001b[0m\u001b[0;34m,\u001b[0m\u001b[0;34m\u001b[0m\u001b[0;34m\u001b[0m\u001b[0m\n",
            "\u001b[0;32m/usr/local/lib/python3.6/dist-packages/tensorflow/python/keras/layers/core.py\u001b[0m in \u001b[0;36m__init__\u001b[0;34m(self, units, activation, use_bias, kernel_initializer, bias_initializer, kernel_regularizer, bias_regularizer, activity_regularizer, kernel_constraint, bias_constraint, **kwargs)\u001b[0m\n\u001b[1;32m   1130\u001b[0m \u001b[0;34m\u001b[0m\u001b[0m\n\u001b[1;32m   1131\u001b[0m     super(Dense, self).__init__(\n\u001b[0;32m-> 1132\u001b[0;31m         activity_regularizer=regularizers.get(activity_regularizer), **kwargs)\n\u001b[0m\u001b[1;32m   1133\u001b[0m \u001b[0;34m\u001b[0m\u001b[0m\n\u001b[1;32m   1134\u001b[0m     \u001b[0mself\u001b[0m\u001b[0;34m.\u001b[0m\u001b[0munits\u001b[0m \u001b[0;34m=\u001b[0m \u001b[0mint\u001b[0m\u001b[0;34m(\u001b[0m\u001b[0munits\u001b[0m\u001b[0;34m)\u001b[0m \u001b[0;32mif\u001b[0m \u001b[0;32mnot\u001b[0m \u001b[0misinstance\u001b[0m\u001b[0;34m(\u001b[0m\u001b[0munits\u001b[0m\u001b[0;34m,\u001b[0m \u001b[0mint\u001b[0m\u001b[0;34m)\u001b[0m \u001b[0;32melse\u001b[0m \u001b[0munits\u001b[0m\u001b[0;34m\u001b[0m\u001b[0;34m\u001b[0m\u001b[0m\n",
            "\u001b[0;32m/usr/local/lib/python3.6/dist-packages/tensorflow/python/training/tracking/base.py\u001b[0m in \u001b[0;36m_method_wrapper\u001b[0;34m(self, *args, **kwargs)\u001b[0m\n\u001b[1;32m    454\u001b[0m     \u001b[0mself\u001b[0m\u001b[0;34m.\u001b[0m\u001b[0m_self_setattr_tracking\u001b[0m \u001b[0;34m=\u001b[0m \u001b[0;32mFalse\u001b[0m  \u001b[0;31m# pylint: disable=protected-access\u001b[0m\u001b[0;34m\u001b[0m\u001b[0;34m\u001b[0m\u001b[0m\n\u001b[1;32m    455\u001b[0m     \u001b[0;32mtry\u001b[0m\u001b[0;34m:\u001b[0m\u001b[0;34m\u001b[0m\u001b[0;34m\u001b[0m\u001b[0m\n\u001b[0;32m--> 456\u001b[0;31m       \u001b[0mresult\u001b[0m \u001b[0;34m=\u001b[0m \u001b[0mmethod\u001b[0m\u001b[0;34m(\u001b[0m\u001b[0mself\u001b[0m\u001b[0;34m,\u001b[0m \u001b[0;34m*\u001b[0m\u001b[0margs\u001b[0m\u001b[0;34m,\u001b[0m \u001b[0;34m**\u001b[0m\u001b[0mkwargs\u001b[0m\u001b[0;34m)\u001b[0m\u001b[0;34m\u001b[0m\u001b[0;34m\u001b[0m\u001b[0m\n\u001b[0m\u001b[1;32m    457\u001b[0m     \u001b[0;32mfinally\u001b[0m\u001b[0;34m:\u001b[0m\u001b[0;34m\u001b[0m\u001b[0;34m\u001b[0m\u001b[0m\n\u001b[1;32m    458\u001b[0m       \u001b[0mself\u001b[0m\u001b[0;34m.\u001b[0m\u001b[0m_self_setattr_tracking\u001b[0m \u001b[0;34m=\u001b[0m \u001b[0mprevious_value\u001b[0m  \u001b[0;31m# pylint: disable=protected-access\u001b[0m\u001b[0;34m\u001b[0m\u001b[0;34m\u001b[0m\u001b[0m\n",
            "\u001b[0;32m/usr/local/lib/python3.6/dist-packages/tensorflow/python/keras/engine/base_layer.py\u001b[0m in \u001b[0;36m__init__\u001b[0;34m(self, trainable, name, dtype, dynamic, **kwargs)\u001b[0m\n\u001b[1;32m    371\u001b[0m         \u001b[0;32melse\u001b[0m\u001b[0;34m:\u001b[0m\u001b[0;34m\u001b[0m\u001b[0;34m\u001b[0m\u001b[0m\n\u001b[1;32m    372\u001b[0m           \u001b[0mbatch_size\u001b[0m \u001b[0;34m=\u001b[0m \u001b[0;32mNone\u001b[0m\u001b[0;34m\u001b[0m\u001b[0;34m\u001b[0m\u001b[0m\n\u001b[0;32m--> 373\u001b[0;31m         \u001b[0mbatch_input_shape\u001b[0m \u001b[0;34m=\u001b[0m \u001b[0;34m(\u001b[0m\u001b[0mbatch_size\u001b[0m\u001b[0;34m,\u001b[0m\u001b[0;34m)\u001b[0m \u001b[0;34m+\u001b[0m \u001b[0mtuple\u001b[0m\u001b[0;34m(\u001b[0m\u001b[0mkwargs\u001b[0m\u001b[0;34m[\u001b[0m\u001b[0;34m'input_shape'\u001b[0m\u001b[0;34m]\u001b[0m\u001b[0;34m)\u001b[0m\u001b[0;34m\u001b[0m\u001b[0;34m\u001b[0m\u001b[0m\n\u001b[0m\u001b[1;32m    374\u001b[0m       \u001b[0mself\u001b[0m\u001b[0;34m.\u001b[0m\u001b[0m_batch_input_shape\u001b[0m \u001b[0;34m=\u001b[0m \u001b[0mbatch_input_shape\u001b[0m\u001b[0;34m\u001b[0m\u001b[0;34m\u001b[0m\u001b[0m\n\u001b[1;32m    375\u001b[0m \u001b[0;34m\u001b[0m\u001b[0m\n",
            "\u001b[0;31mTypeError\u001b[0m: 'int' object is not iterable"
          ]
        }
      ]
    },
    {
      "cell_type": "code",
      "metadata": {
        "id": "UTdPtLdO6NlW"
      },
      "source": [
        "def test_model(model,X):\n",
        "    # write the code that generates prediction, given the dataset here\n",
        "    # do not change the arguments of the function\n",
        "    # the model object can itself be a function\n",
        "    # if there is binning, transformations or clustering of the data, they should happen here as well\n",
        "    # a sample is provided for your reference\n",
        "\n",
        "    predictions =  model.predict(X_test)\n",
        "    \n",
        "    return predictions"
      ],
      "execution_count": null,
      "outputs": []
    },
    {
      "cell_type": "code",
      "metadata": {
        "id": "w2CnR4akDSQW",
        "colab": {
          "base_uri": "https://localhost:8080/",
          "height": 422
        },
        "outputId": "6006d476-b56d-4741-8258-d0b9d16c851a"
      },
      "source": [
        "def get_model():\n",
        "    \n",
        "    model = Sequential([\n",
        "        Dense(1024, input_shape = (12,), activation = 'relu'),\n",
        "        Dense(512, activation = 'relu'),\n",
        "        Dense(256, activation = 'relu'),\n",
        "        Dense(128, activation = 'relu'),\n",
        "        Dense(64, activation = 'relu'),\n",
        "        Dense(11, activation = 'relu'),\n",
        "        Dense(1)\n",
        "    ])\n",
        "\n",
        "    model.compile(\n",
        "        loss='mse',\n",
        "        optimizer='adadelta'\n",
        "    )\n",
        "    \n",
        "    return model\n",
        "\n",
        "model = get_model()\n",
        "model.summary()"
      ],
      "execution_count": null,
      "outputs": [
        {
          "output_type": "stream",
          "text": [
            "Model: \"sequential_35\"\n",
            "_________________________________________________________________\n",
            "Layer (type)                 Output Shape              Param #   \n",
            "=================================================================\n",
            "dense_203 (Dense)            (None, 1024)              13312     \n",
            "_________________________________________________________________\n",
            "dense_204 (Dense)            (None, 512)               524800    \n",
            "_________________________________________________________________\n",
            "dense_205 (Dense)            (None, 256)               131328    \n",
            "_________________________________________________________________\n",
            "dense_206 (Dense)            (None, 128)               32896     \n",
            "_________________________________________________________________\n",
            "dense_207 (Dense)            (None, 64)                8256      \n",
            "_________________________________________________________________\n",
            "dense_208 (Dense)            (None, 11)                715       \n",
            "_________________________________________________________________\n",
            "dense_209 (Dense)            (None, 1)                 12        \n",
            "=================================================================\n",
            "Total params: 711,319\n",
            "Trainable params: 711,319\n",
            "Non-trainable params: 0\n",
            "_________________________________________________________________\n"
          ],
          "name": "stdout"
        }
      ]
    },
    {
      "cell_type": "code",
      "metadata": {
        "id": "OL04_0rp6Tsa"
      },
      "source": [
        "## set the seed to make your partition reproducible\n",
        "## do not change the seed, this would make a lot of things a lot more difficult than it needs to  be\n",
        "random_seed = 42\n",
        "random.seed(random_seed)\n",
        "\n",
        "'''\n",
        "do not change this code\n",
        "the snippet generates the datasets for modelling\n",
        "'''\n",
        "\n",
        "# reading the data from the given raw file\n",
        "raw_dat = pd.read_csv('DSDataLastThreeMonths.csv')\n",
        "# removing null values for further analysis\n",
        "raw_dat = raw_dat.dropna().reset_index()\n",
        "\n",
        "# extracting the independent variable, X\n",
        "x_data = raw_dat.loc[:,['HM_WT', 'AIM_S', 'HM_S', 'HM_C', 'HM_SI', 'HM_TI','HM_MN', 'CAC2', 'MG', 'HM_TEMP', 'CAC2_INJ_TIME', 'MG_INJ_TIME']]\n",
        "# extracting the dependent variable, y\n",
        "y_data = raw_dat.loc[:,'DS_S']\n",
        "\n",
        "# splitting the entire dataset into test and train\n",
        "# for all model development, use only the train dataset\n",
        "# do not touch the test dataset for any development purposes\n",
        "# test dataset is purely for validation purposes\n",
        "\n",
        "#X_train, X_test, y_train, y_test = train_test_split(x_data, y_data, test_size=0.33, random_state=42)\n",
        "\n"
      ],
      "execution_count": null,
      "outputs": []
    },
    {
      "cell_type": "code",
      "metadata": {
        "id": "v-BsqPcA-zFf",
        "colab": {
          "base_uri": "https://localhost:8080/",
          "height": 317
        },
        "outputId": "8e9fc033-cca2-40e6-f55c-cc395dd64b4b"
      },
      "source": [
        "raw_dat.isna().sum()"
      ],
      "execution_count": null,
      "outputs": [
        {
          "output_type": "execute_result",
          "data": {
            "text/plain": [
              "index            0\n",
              "CASTNO           0\n",
              "HM_WT            0\n",
              "AIM_S            0\n",
              "HM_S             0\n",
              "HM_C             0\n",
              "HM_SI            0\n",
              "HM_TI            0\n",
              "HM_MN            0\n",
              "CAC2             0\n",
              "MG               0\n",
              "HM_TEMP          0\n",
              "CAC2_INJ_TIME    0\n",
              "MG_INJ_TIME      0\n",
              "DS_S             0\n",
              "dtype: int64"
            ]
          },
          "metadata": {
            "tags": []
          },
          "execution_count": 31
        }
      ]
    },
    {
      "cell_type": "code",
      "metadata": {
        "id": "Qx_cVNGf83IR",
        "colab": {
          "base_uri": "https://localhost:8080/",
          "height": 72
        },
        "outputId": "3ca00ab1-7d63-44ae-a43f-8c2016b3f905"
      },
      "source": [
        "\n",
        "print (\"size x=\",x_data.size)\n",
        "print (\"size y=\",y_data.size)\n",
        "print(\"size parameters=\",x_data.size/y_data.size)"
      ],
      "execution_count": null,
      "outputs": [
        {
          "output_type": "stream",
          "text": [
            "size= 73128\n",
            "size= 6094\n",
            "size= 12.0\n"
          ],
          "name": "stdout"
        }
      ]
    },
    {
      "cell_type": "code",
      "metadata": {
        "id": "gsKwb63w9NRz",
        "colab": {
          "base_uri": "https://localhost:8080/",
          "height": 206
        },
        "outputId": "3b206cf5-8891-4523-e9f9-83f878735233"
      },
      "source": [
        "x_data.head()"
      ],
      "execution_count": null,
      "outputs": [
        {
          "output_type": "execute_result",
          "data": {
            "text/html": [
              "<div>\n",
              "<style scoped>\n",
              "    .dataframe tbody tr th:only-of-type {\n",
              "        vertical-align: middle;\n",
              "    }\n",
              "\n",
              "    .dataframe tbody tr th {\n",
              "        vertical-align: top;\n",
              "    }\n",
              "\n",
              "    .dataframe thead th {\n",
              "        text-align: right;\n",
              "    }\n",
              "</style>\n",
              "<table border=\"1\" class=\"dataframe\">\n",
              "  <thead>\n",
              "    <tr style=\"text-align: right;\">\n",
              "      <th></th>\n",
              "      <th>HM_WT</th>\n",
              "      <th>AIM_S</th>\n",
              "      <th>HM_S</th>\n",
              "      <th>HM_C</th>\n",
              "      <th>HM_SI</th>\n",
              "      <th>HM_TI</th>\n",
              "      <th>HM_MN</th>\n",
              "      <th>CAC2</th>\n",
              "      <th>MG</th>\n",
              "      <th>HM_TEMP</th>\n",
              "      <th>CAC2_INJ_TIME</th>\n",
              "      <th>MG_INJ_TIME</th>\n",
              "    </tr>\n",
              "  </thead>\n",
              "  <tbody>\n",
              "    <tr>\n",
              "      <th>0</th>\n",
              "      <td>171</td>\n",
              "      <td>0.005</td>\n",
              "      <td>0.040</td>\n",
              "      <td>4.572</td>\n",
              "      <td>0.518</td>\n",
              "      <td>0.069</td>\n",
              "      <td>0.040</td>\n",
              "      <td>347</td>\n",
              "      <td>49</td>\n",
              "      <td>1387.0</td>\n",
              "      <td>10</td>\n",
              "      <td>4</td>\n",
              "    </tr>\n",
              "    <tr>\n",
              "      <th>1</th>\n",
              "      <td>161</td>\n",
              "      <td>0.005</td>\n",
              "      <td>0.035</td>\n",
              "      <td>4.580</td>\n",
              "      <td>0.559</td>\n",
              "      <td>0.070</td>\n",
              "      <td>0.041</td>\n",
              "      <td>361</td>\n",
              "      <td>45</td>\n",
              "      <td>1386.0</td>\n",
              "      <td>10</td>\n",
              "      <td>4</td>\n",
              "    </tr>\n",
              "    <tr>\n",
              "      <th>2</th>\n",
              "      <td>170</td>\n",
              "      <td>0.005</td>\n",
              "      <td>0.042</td>\n",
              "      <td>4.590</td>\n",
              "      <td>0.468</td>\n",
              "      <td>0.044</td>\n",
              "      <td>0.036</td>\n",
              "      <td>355</td>\n",
              "      <td>52</td>\n",
              "      <td>1368.0</td>\n",
              "      <td>9</td>\n",
              "      <td>4</td>\n",
              "    </tr>\n",
              "    <tr>\n",
              "      <th>3</th>\n",
              "      <td>159</td>\n",
              "      <td>0.005</td>\n",
              "      <td>0.034</td>\n",
              "      <td>4.530</td>\n",
              "      <td>0.737</td>\n",
              "      <td>0.077</td>\n",
              "      <td>0.040</td>\n",
              "      <td>313</td>\n",
              "      <td>44</td>\n",
              "      <td>1401.0</td>\n",
              "      <td>9</td>\n",
              "      <td>4</td>\n",
              "    </tr>\n",
              "    <tr>\n",
              "      <th>4</th>\n",
              "      <td>162</td>\n",
              "      <td>0.005</td>\n",
              "      <td>0.042</td>\n",
              "      <td>4.560</td>\n",
              "      <td>0.443</td>\n",
              "      <td>0.056</td>\n",
              "      <td>0.037</td>\n",
              "      <td>360</td>\n",
              "      <td>55</td>\n",
              "      <td>1346.0</td>\n",
              "      <td>10</td>\n",
              "      <td>5</td>\n",
              "    </tr>\n",
              "  </tbody>\n",
              "</table>\n",
              "</div>"
            ],
            "text/plain": [
              "   HM_WT  AIM_S   HM_S   HM_C  ...  MG  HM_TEMP  CAC2_INJ_TIME  MG_INJ_TIME\n",
              "0    171  0.005  0.040  4.572  ...  49   1387.0             10            4\n",
              "1    161  0.005  0.035  4.580  ...  45   1386.0             10            4\n",
              "2    170  0.005  0.042  4.590  ...  52   1368.0              9            4\n",
              "3    159  0.005  0.034  4.530  ...  44   1401.0              9            4\n",
              "4    162  0.005  0.042  4.560  ...  55   1346.0             10            5\n",
              "\n",
              "[5 rows x 12 columns]"
            ]
          },
          "metadata": {
            "tags": []
          },
          "execution_count": 22
        }
      ]
    },
    {
      "cell_type": "code",
      "metadata": {
        "id": "EbQtYWw59elW",
        "colab": {
          "base_uri": "https://localhost:8080/",
          "height": 226
        },
        "outputId": "27aa2a11-3e9e-4a4e-e1b5-32ac155d4916"
      },
      "source": [
        "x_avg=x_data.mean()\n",
        "x_stdv=x_data.std()\n",
        "x_norm=(x_data - x_data.mean()) / x_data.std()\n",
        "x_norm.head()"
      ],
      "execution_count": null,
      "outputs": [
        {
          "output_type": "execute_result",
          "data": {
            "text/html": [
              "<div>\n",
              "<style scoped>\n",
              "    .dataframe tbody tr th:only-of-type {\n",
              "        vertical-align: middle;\n",
              "    }\n",
              "\n",
              "    .dataframe tbody tr th {\n",
              "        vertical-align: top;\n",
              "    }\n",
              "\n",
              "    .dataframe thead th {\n",
              "        text-align: right;\n",
              "    }\n",
              "</style>\n",
              "<table border=\"1\" class=\"dataframe\">\n",
              "  <thead>\n",
              "    <tr style=\"text-align: right;\">\n",
              "      <th></th>\n",
              "      <th>HM_WT</th>\n",
              "      <th>AIM_S</th>\n",
              "      <th>HM_S</th>\n",
              "      <th>HM_C</th>\n",
              "      <th>HM_SI</th>\n",
              "      <th>HM_TI</th>\n",
              "      <th>HM_MN</th>\n",
              "      <th>CAC2</th>\n",
              "      <th>MG</th>\n",
              "      <th>HM_TEMP</th>\n",
              "      <th>CAC2_INJ_TIME</th>\n",
              "      <th>MG_INJ_TIME</th>\n",
              "    </tr>\n",
              "  </thead>\n",
              "  <tbody>\n",
              "    <tr>\n",
              "      <th>0</th>\n",
              "      <td>0.880223</td>\n",
              "      <td>0.023316</td>\n",
              "      <td>0.034549</td>\n",
              "      <td>0.178071</td>\n",
              "      <td>-0.564774</td>\n",
              "      <td>0.165607</td>\n",
              "      <td>-0.562042</td>\n",
              "      <td>-0.129579</td>\n",
              "      <td>-0.153903</td>\n",
              "      <td>-0.035854</td>\n",
              "      <td>0.358448</td>\n",
              "      <td>-0.767447</td>\n",
              "    </tr>\n",
              "    <tr>\n",
              "      <th>1</th>\n",
              "      <td>-0.703643</td>\n",
              "      <td>0.023316</td>\n",
              "      <td>-0.468902</td>\n",
              "      <td>0.327394</td>\n",
              "      <td>-0.318842</td>\n",
              "      <td>0.233403</td>\n",
              "      <td>-0.352467</td>\n",
              "      <td>0.101614</td>\n",
              "      <td>-0.580943</td>\n",
              "      <td>-0.062418</td>\n",
              "      <td>0.358448</td>\n",
              "      <td>-0.767447</td>\n",
              "    </tr>\n",
              "    <tr>\n",
              "      <th>2</th>\n",
              "      <td>0.721836</td>\n",
              "      <td>0.023316</td>\n",
              "      <td>0.235930</td>\n",
              "      <td>0.514048</td>\n",
              "      <td>-0.864691</td>\n",
              "      <td>-1.529291</td>\n",
              "      <td>-1.400343</td>\n",
              "      <td>0.002531</td>\n",
              "      <td>0.166377</td>\n",
              "      <td>-0.540578</td>\n",
              "      <td>-0.221579</td>\n",
              "      <td>-0.767447</td>\n",
              "    </tr>\n",
              "    <tr>\n",
              "      <th>3</th>\n",
              "      <td>-1.020416</td>\n",
              "      <td>0.023316</td>\n",
              "      <td>-0.569592</td>\n",
              "      <td>-0.605874</td>\n",
              "      <td>0.748864</td>\n",
              "      <td>0.707974</td>\n",
              "      <td>-0.562042</td>\n",
              "      <td>-0.691047</td>\n",
              "      <td>-0.687703</td>\n",
              "      <td>0.336048</td>\n",
              "      <td>-0.221579</td>\n",
              "      <td>-0.767447</td>\n",
              "    </tr>\n",
              "    <tr>\n",
              "      <th>4</th>\n",
              "      <td>-0.545256</td>\n",
              "      <td>0.023316</td>\n",
              "      <td>0.235930</td>\n",
              "      <td>-0.045913</td>\n",
              "      <td>-1.014650</td>\n",
              "      <td>-0.715740</td>\n",
              "      <td>-1.190768</td>\n",
              "      <td>0.085100</td>\n",
              "      <td>0.486656</td>\n",
              "      <td>-1.124996</td>\n",
              "      <td>0.358448</td>\n",
              "      <td>0.067998</td>\n",
              "    </tr>\n",
              "  </tbody>\n",
              "</table>\n",
              "</div>"
            ],
            "text/plain": [
              "      HM_WT     AIM_S      HM_S  ...   HM_TEMP  CAC2_INJ_TIME  MG_INJ_TIME\n",
              "0  0.880223  0.023316  0.034549  ... -0.035854       0.358448    -0.767447\n",
              "1 -0.703643  0.023316 -0.468902  ... -0.062418       0.358448    -0.767447\n",
              "2  0.721836  0.023316  0.235930  ... -0.540578      -0.221579    -0.767447\n",
              "3 -1.020416  0.023316 -0.569592  ...  0.336048      -0.221579    -0.767447\n",
              "4 -0.545256  0.023316  0.235930  ... -1.124996       0.358448     0.067998\n",
              "\n",
              "[5 rows x 12 columns]"
            ]
          },
          "metadata": {
            "tags": []
          },
          "execution_count": 124
        }
      ]
    },
    {
      "cell_type": "code",
      "metadata": {
        "id": "MkzmitsW-BvA",
        "colab": {
          "base_uri": "https://localhost:8080/",
          "height": 127
        },
        "outputId": "2e6bf035-b781-4fb9-d052-0d57c1fbe75f"
      },
      "source": [
        "y_avg=y_data.mean()\n",
        "y_stdv=y_data.std()\n",
        "y_norm=(y_data - y_data.mean()) / y_data.std()\n",
        "y_norm.head()"
      ],
      "execution_count": null,
      "outputs": [
        {
          "output_type": "execute_result",
          "data": {
            "text/plain": [
              "0    0.524052\n",
              "1   -0.190234\n",
              "2    1.952626\n",
              "3    0.881196\n",
              "4    1.952626\n",
              "Name: DS_S, dtype: float64"
            ]
          },
          "metadata": {
            "tags": []
          },
          "execution_count": 125
        }
      ]
    },
    {
      "cell_type": "code",
      "metadata": {
        "id": "yuD6xTD6-LUB",
        "colab": {
          "base_uri": "https://localhost:8080/",
          "height": 286
        },
        "outputId": "5ec8a2f8-b446-47f0-b21a-8b28092b40c3"
      },
      "source": [
        "plt.plot(y_data)"
      ],
      "execution_count": null,
      "outputs": [
        {
          "output_type": "execute_result",
          "data": {
            "text/plain": [
              "[<matplotlib.lines.Line2D at 0x7f996f9dc588>]"
            ]
          },
          "metadata": {
            "tags": []
          },
          "execution_count": 26
        },
        {
          "output_type": "display_data",
          "data": {
            "image/png": "[encoded data removed]",
            "text/plain": [
              "<Figure size 432x288 with 1 Axes>"
            ]
          },
          "metadata": {
            "tags": [],
            "needs_background": "light"
          }
        }
      ]
    },
    {
      "cell_type": "code",
      "metadata": {
        "id": "SuwcsjlV-2VQ"
      },
      "source": [
        "X_train, X_test, y_train, y_test = train_test_split(x_norm, y_norm, test_size=0.10, random_state=42)"
      ],
      "execution_count": null,
      "outputs": []
    },
    {
      "cell_type": "code",
      "metadata": {
        "id": "LPDAOKUf6mw0",
        "colab": {
          "base_uri": "https://localhost:8080/",
          "height": 1000
        },
        "outputId": "1a22a4ba-328a-47d6-af0c-489176ea0a99"
      },
      "source": [
        "'''\n",
        "write your code below\n",
        "a sample code is provided for your reference\n",
        "build your model under the name clf, or any other name of your choosing\n",
        "build the model only on the train dataset\n",
        "generate your prediction under the name pred_test and pred_train\n",
        "'''\n",
        "\n",
        "# build your model here\n",
        "early_stopping = EarlyStopping(monitor='val_loss', patience = 5)\n",
        "model = get_model( )\n",
        "'''\n",
        "preds_on_untrained = model.predict(X_test)\n",
        "clf = LinearRegression()\n",
        "history=clf.fit(X_train,y_train)\n",
        "'''\n",
        "history = model.fit(\n",
        "    X_train, y_train,\n",
        "    validation_data = (X_test, y_test),\n",
        "    epochs = 400,\n",
        "    callbacks = [early_stopping]\n",
        ")\n",
        "\n",
        "# generate your predictions on test and train dataset\n",
        "pred_test = test_model(model,X_test)\n",
        "pred_train = test_model(model,X_train)"
      ],
      "execution_count": null,
      "outputs": [
        {
          "output_type": "stream",
          "text": [
            "Epoch 1/400\n",
            "172/172 [==============================] - 3s 15ms/step - loss: 0.9960 - val_loss: 0.9575\n",
            "Epoch 2/400\n",
            "172/172 [==============================] - 2s 12ms/step - loss: 0.9715 - val_loss: 0.9383\n",
            "Epoch 3/400\n",
            "172/172 [==============================] - 2s 13ms/step - loss: 0.9499 - val_loss: 0.9206\n",
            "Epoch 4/400\n",
            "172/172 [==============================] - 2s 13ms/step - loss: 0.9296 - val_loss: 0.9032\n",
            "Epoch 5/400\n",
            "172/172 [==============================] - 3s 15ms/step - loss: 0.9101 - val_loss: 0.8864\n",
            "Epoch 6/400\n",
            "172/172 [==============================] - 2s 14ms/step - loss: 0.8921 - val_loss: 0.8711\n",
            "Epoch 7/400\n",
            "172/172 [==============================] - 2s 13ms/step - loss: 0.8755 - val_loss: 0.8565\n",
            "Epoch 8/400\n",
            "172/172 [==============================] - 2s 13ms/step - loss: 0.8601 - val_loss: 0.8427\n",
            "Epoch 9/400\n",
            "172/172 [==============================] - 2s 12ms/step - loss: 0.8458 - val_loss: 0.8300\n",
            "Epoch 10/400\n",
            "172/172 [==============================] - 2s 14ms/step - loss: 0.8324 - val_loss: 0.8177\n",
            "Epoch 11/400\n",
            "172/172 [==============================] - 2s 12ms/step - loss: 0.8198 - val_loss: 0.8058\n",
            "Epoch 12/400\n",
            "172/172 [==============================] - 3s 15ms/step - loss: 0.8078 - val_loss: 0.7945\n",
            "Epoch 13/400\n",
            "172/172 [==============================] - 2s 12ms/step - loss: 0.7968 - val_loss: 0.7841\n",
            "Epoch 14/400\n",
            "172/172 [==============================] - 2s 12ms/step - loss: 0.7864 - val_loss: 0.7742\n",
            "Epoch 15/400\n",
            "172/172 [==============================] - 2s 14ms/step - loss: 0.7763 - val_loss: 0.7645\n",
            "Epoch 16/400\n",
            "172/172 [==============================] - 2s 12ms/step - loss: 0.7665 - val_loss: 0.7551\n",
            "Epoch 17/400\n",
            "172/172 [==============================] - 2s 12ms/step - loss: 0.7571 - val_loss: 0.7461\n",
            "Epoch 18/400\n",
            "172/172 [==============================] - 3s 15ms/step - loss: 0.7481 - val_loss: 0.7376\n",
            "Epoch 19/400\n",
            "172/172 [==============================] - 2s 14ms/step - loss: 0.7394 - val_loss: 0.7294\n",
            "Epoch 20/400\n",
            "172/172 [==============================] - 2s 14ms/step - loss: 0.7310 - val_loss: 0.7215\n",
            "Epoch 21/400\n",
            "172/172 [==============================] - 3s 16ms/step - loss: 0.7229 - val_loss: 0.7139\n",
            "Epoch 22/400\n",
            "172/172 [==============================] - 3s 16ms/step - loss: 0.7152 - val_loss: 0.7066\n",
            "Epoch 23/400\n",
            "172/172 [==============================] - 2s 14ms/step - loss: 0.7077 - val_loss: 0.6997\n",
            "Epoch 24/400\n",
            "172/172 [==============================] - 2s 14ms/step - loss: 0.7007 - val_loss: 0.6935\n",
            "Epoch 25/400\n",
            "172/172 [==============================] - 2s 13ms/step - loss: 0.6941 - val_loss: 0.6876\n",
            "Epoch 26/400\n",
            "172/172 [==============================] - 2s 12ms/step - loss: 0.6878 - val_loss: 0.6819\n",
            "Epoch 27/400\n",
            "172/172 [==============================] - 2s 12ms/step - loss: 0.6818 - val_loss: 0.6764\n",
            "Epoch 28/400\n",
            "172/172 [==============================] - 3s 15ms/step - loss: 0.6762 - val_loss: 0.6716\n",
            "Epoch 29/400\n",
            "172/172 [==============================] - 2s 13ms/step - loss: 0.6709 - val_loss: 0.6669\n",
            "Epoch 30/400\n",
            "172/172 [==============================] - 2s 13ms/step - loss: 0.6658 - val_loss: 0.6623\n",
            "Epoch 31/400\n",
            "172/172 [==============================] - 2s 12ms/step - loss: 0.6609 - val_loss: 0.6580\n",
            "Epoch 32/400\n",
            "172/172 [==============================] - 2s 12ms/step - loss: 0.6561 - val_loss: 0.6537\n",
            "Epoch 33/400\n",
            "172/172 [==============================] - 2s 14ms/step - loss: 0.6516 - val_loss: 0.6499\n",
            "Epoch 34/400\n",
            "172/172 [==============================] - 2s 14ms/step - loss: 0.6474 - val_loss: 0.6463\n",
            "Epoch 35/400\n",
            "172/172 [==============================] - 3s 15ms/step - loss: 0.6433 - val_loss: 0.6428\n",
            "Epoch 36/400\n",
            "172/172 [==============================] - 2s 13ms/step - loss: 0.6394 - val_loss: 0.6395\n",
            "Epoch 37/400\n",
            "172/172 [==============================] - 2s 14ms/step - loss: 0.6357 - val_loss: 0.6364\n",
            "Epoch 38/400\n",
            "172/172 [==============================] - 3s 15ms/step - loss: 0.6320 - val_loss: 0.6334\n",
            "Epoch 39/400\n",
            "172/172 [==============================] - 2s 14ms/step - loss: 0.6286 - val_loss: 0.6306\n",
            "Epoch 40/400\n",
            "172/172 [==============================] - 2s 14ms/step - loss: 0.6253 - val_loss: 0.6280\n",
            "Epoch 41/400\n",
            "172/172 [==============================] - 2s 14ms/step - loss: 0.6221 - val_loss: 0.6255\n",
            "Epoch 42/400\n",
            "172/172 [==============================] - 2s 14ms/step - loss: 0.6189 - val_loss: 0.6231\n",
            "Epoch 43/400\n",
            "172/172 [==============================] - 2s 14ms/step - loss: 0.6158 - val_loss: 0.6207\n",
            "Epoch 44/400\n",
            "172/172 [==============================] - 2s 12ms/step - loss: 0.6129 - val_loss: 0.6185\n",
            "Epoch 45/400\n",
            "172/172 [==============================] - 2s 13ms/step - loss: 0.6100 - val_loss: 0.6164\n",
            "Epoch 46/400\n",
            "172/172 [==============================] - 2s 14ms/step - loss: 0.6073 - val_loss: 0.6145\n",
            "Epoch 47/400\n",
            "172/172 [==============================] - 3s 15ms/step - loss: 0.6047 - val_loss: 0.6125\n",
            "Epoch 48/400\n",
            "172/172 [==============================] - 2s 13ms/step - loss: 0.6021 - val_loss: 0.6108\n",
            "Epoch 49/400\n",
            "172/172 [==============================] - 3s 15ms/step - loss: 0.5996 - val_loss: 0.6091\n",
            "Epoch 50/400\n",
            "172/172 [==============================] - 2s 14ms/step - loss: 0.5973 - val_loss: 0.6074\n",
            "Epoch 51/400\n",
            "172/172 [==============================] - 2s 12ms/step - loss: 0.5949 - val_loss: 0.6056\n",
            "Epoch 52/400\n",
            "172/172 [==============================] - 2s 14ms/step - loss: 0.5927 - val_loss: 0.6041\n",
            "Epoch 53/400\n",
            "172/172 [==============================] - 2s 12ms/step - loss: 0.5906 - val_loss: 0.6027\n",
            "Epoch 54/400\n",
            "172/172 [==============================] - 2s 12ms/step - loss: 0.5884 - val_loss: 0.6012\n",
            "Epoch 55/400\n",
            "172/172 [==============================] - 3s 15ms/step - loss: 0.5863 - val_loss: 0.5999\n",
            "Epoch 56/400\n",
            "172/172 [==============================] - 3s 15ms/step - loss: 0.5843 - val_loss: 0.5985\n",
            "Epoch 57/400\n",
            "172/172 [==============================] - 2s 14ms/step - loss: 0.5822 - val_loss: 0.5973\n",
            "Epoch 58/400\n",
            "172/172 [==============================] - 3s 15ms/step - loss: 0.5803 - val_loss: 0.5959\n",
            "Epoch 59/400\n",
            "172/172 [==============================] - 3s 15ms/step - loss: 0.5783 - val_loss: 0.5946\n",
            "Epoch 60/400\n",
            "172/172 [==============================] - 2s 12ms/step - loss: 0.5765 - val_loss: 0.5938\n",
            "Epoch 61/400\n",
            "172/172 [==============================] - 2s 14ms/step - loss: 0.5747 - val_loss: 0.5925\n",
            "Epoch 62/400\n",
            "172/172 [==============================] - 2s 14ms/step - loss: 0.5731 - val_loss: 0.5915\n",
            "Epoch 63/400\n",
            "172/172 [==============================] - 2s 13ms/step - loss: 0.5715 - val_loss: 0.5905\n",
            "Epoch 64/400\n",
            "172/172 [==============================] - 2s 12ms/step - loss: 0.5698 - val_loss: 0.5895\n",
            "Epoch 65/400\n",
            "172/172 [==============================] - 2s 13ms/step - loss: 0.5683 - val_loss: 0.5887\n",
            "Epoch 66/400\n",
            "172/172 [==============================] - 2s 12ms/step - loss: 0.5668 - val_loss: 0.5879\n",
            "Epoch 67/400\n",
            "172/172 [==============================] - 3s 15ms/step - loss: 0.5653 - val_loss: 0.5872\n",
            "Epoch 68/400\n",
            "172/172 [==============================] - 2s 12ms/step - loss: 0.5639 - val_loss: 0.5864\n",
            "Epoch 69/400\n",
            "172/172 [==============================] - 2s 12ms/step - loss: 0.5625 - val_loss: 0.5858\n",
            "Epoch 70/400\n",
            "172/172 [==============================] - 2s 14ms/step - loss: 0.5612 - val_loss: 0.5852\n",
            "Epoch 71/400\n",
            "172/172 [==============================] - 2s 12ms/step - loss: 0.5598 - val_loss: 0.5846\n",
            "Epoch 72/400\n",
            "172/172 [==============================] - 2s 14ms/step - loss: 0.5586 - val_loss: 0.5839\n",
            "Epoch 73/400\n",
            "172/172 [==============================] - 2s 14ms/step - loss: 0.5573 - val_loss: 0.5833\n",
            "Epoch 74/400\n",
            "172/172 [==============================] - 2s 12ms/step - loss: 0.5561 - val_loss: 0.5828\n",
            "Epoch 75/400\n",
            "172/172 [==============================] - 2s 12ms/step - loss: 0.5549 - val_loss: 0.5822\n",
            "Epoch 76/400\n",
            "172/172 [==============================] - 3s 15ms/step - loss: 0.5538 - val_loss: 0.5819\n",
            "Epoch 77/400\n",
            "172/172 [==============================] - 2s 12ms/step - loss: 0.5527 - val_loss: 0.5813\n",
            "Epoch 78/400\n",
            "172/172 [==============================] - 2s 12ms/step - loss: 0.5516 - val_loss: 0.5808\n",
            "Epoch 79/400\n",
            "172/172 [==============================] - 3s 15ms/step - loss: 0.5506 - val_loss: 0.5804\n",
            "Epoch 80/400\n",
            "172/172 [==============================] - 2s 12ms/step - loss: 0.5495 - val_loss: 0.5800\n",
            "Epoch 81/400\n",
            "172/172 [==============================] - 2s 14ms/step - loss: 0.5486 - val_loss: 0.5796\n",
            "Epoch 82/400\n",
            "172/172 [==============================] - 2s 14ms/step - loss: 0.5477 - val_loss: 0.5791\n",
            "Epoch 83/400\n",
            "172/172 [==============================] - 3s 15ms/step - loss: 0.5467 - val_loss: 0.5787\n",
            "Epoch 84/400\n",
            "172/172 [==============================] - 2s 12ms/step - loss: 0.5459 - val_loss: 0.5784\n",
            "Epoch 85/400\n",
            "172/172 [==============================] - 3s 15ms/step - loss: 0.5450 - val_loss: 0.5781\n",
            "Epoch 86/400\n",
            "172/172 [==============================] - 2s 13ms/step - loss: 0.5442 - val_loss: 0.5778\n",
            "Epoch 87/400\n",
            "172/172 [==============================] - 2s 12ms/step - loss: 0.5434 - val_loss: 0.5775\n",
            "Epoch 88/400\n",
            "172/172 [==============================] - 3s 15ms/step - loss: 0.5425 - val_loss: 0.5771\n",
            "Epoch 89/400\n",
            "172/172 [==============================] - 2s 13ms/step - loss: 0.5417 - val_loss: 0.5769\n",
            "Epoch 90/400\n",
            "172/172 [==============================] - 2s 13ms/step - loss: 0.5409 - val_loss: 0.5767\n",
            "Epoch 91/400\n",
            "172/172 [==============================] - 2s 13ms/step - loss: 0.5401 - val_loss: 0.5766\n",
            "Epoch 92/400\n",
            "172/172 [==============================] - 2s 12ms/step - loss: 0.5395 - val_loss: 0.5762\n",
            "Epoch 93/400\n",
            "172/172 [==============================] - 2s 14ms/step - loss: 0.5388 - val_loss: 0.5760\n",
            "Epoch 94/400\n",
            "172/172 [==============================] - 2s 14ms/step - loss: 0.5380 - val_loss: 0.5757\n",
            "Epoch 95/400\n",
            "172/172 [==============================] - 2s 14ms/step - loss: 0.5374 - val_loss: 0.5755\n",
            "Epoch 96/400\n",
            "172/172 [==============================] - 3s 15ms/step - loss: 0.5368 - val_loss: 0.5752\n",
            "Epoch 97/400\n",
            "172/172 [==============================] - 2s 14ms/step - loss: 0.5361 - val_loss: 0.5751\n",
            "Epoch 98/400\n",
            "172/172 [==============================] - 2s 14ms/step - loss: 0.5354 - val_loss: 0.5748\n",
            "Epoch 99/400\n",
            "172/172 [==============================] - 2s 13ms/step - loss: 0.5346 - val_loss: 0.5746\n",
            "Epoch 100/400\n",
            "172/172 [==============================] - 3s 15ms/step - loss: 0.5342 - val_loss: 0.5745\n",
            "Epoch 101/400\n",
            "172/172 [==============================] - 2s 14ms/step - loss: 0.5335 - val_loss: 0.5743\n",
            "Epoch 102/400\n",
            "172/172 [==============================] - 3s 15ms/step - loss: 0.5330 - val_loss: 0.5741\n",
            "Epoch 103/400\n",
            "172/172 [==============================] - 3s 16ms/step - loss: 0.5325 - val_loss: 0.5739\n",
            "Epoch 104/400\n",
            "172/172 [==============================] - 2s 13ms/step - loss: 0.5319 - val_loss: 0.5738\n",
            "Epoch 105/400\n",
            "172/172 [==============================] - 3s 15ms/step - loss: 0.5312 - val_loss: 0.5736\n",
            "Epoch 106/400\n",
            "172/172 [==============================] - 3s 16ms/step - loss: 0.5308 - val_loss: 0.5734\n",
            "Epoch 107/400\n",
            "172/172 [==============================] - 2s 14ms/step - loss: 0.5303 - val_loss: 0.5732\n",
            "Epoch 108/400\n",
            "172/172 [==============================] - 3s 15ms/step - loss: 0.5297 - val_loss: 0.5730\n",
            "Epoch 109/400\n",
            "172/172 [==============================] - 3s 15ms/step - loss: 0.5292 - val_loss: 0.5729\n",
            "Epoch 110/400\n",
            "172/172 [==============================] - 2s 13ms/step - loss: 0.5287 - val_loss: 0.5727\n",
            "Epoch 111/400\n",
            "172/172 [==============================] - 3s 16ms/step - loss: 0.5281 - val_loss: 0.5727\n",
            "Epoch 112/400\n",
            "172/172 [==============================] - 3s 16ms/step - loss: 0.5277 - val_loss: 0.5726\n",
            "Epoch 113/400\n",
            "172/172 [==============================] - 3s 15ms/step - loss: 0.5271 - val_loss: 0.5723\n",
            "Epoch 114/400\n",
            "172/172 [==============================] - 3s 15ms/step - loss: 0.5267 - val_loss: 0.5723\n",
            "Epoch 115/400\n",
            "172/172 [==============================] - 3s 16ms/step - loss: 0.5262 - val_loss: 0.5721\n",
            "Epoch 116/400\n",
            "172/172 [==============================] - 2s 14ms/step - loss: 0.5257 - val_loss: 0.5721\n",
            "Epoch 117/400\n",
            "172/172 [==============================] - 3s 16ms/step - loss: 0.5253 - val_loss: 0.5720\n",
            "Epoch 118/400\n",
            "172/172 [==============================] - 2s 14ms/step - loss: 0.5248 - val_loss: 0.5717\n",
            "Epoch 119/400\n",
            "172/172 [==============================] - 3s 15ms/step - loss: 0.5243 - val_loss: 0.5717\n",
            "Epoch 120/400\n",
            "172/172 [==============================] - 3s 15ms/step - loss: 0.5239 - val_loss: 0.5715\n",
            "Epoch 121/400\n",
            "172/172 [==============================] - 3s 15ms/step - loss: 0.5235 - val_loss: 0.5713\n",
            "Epoch 122/400\n",
            "172/172 [==============================] - 3s 15ms/step - loss: 0.5231 - val_loss: 0.5712\n",
            "Epoch 123/400\n",
            "172/172 [==============================] - 3s 15ms/step - loss: 0.5227 - val_loss: 0.5711\n",
            "Epoch 124/400\n",
            "172/172 [==============================] - 2s 14ms/step - loss: 0.5223 - val_loss: 0.5708\n",
            "Epoch 125/400\n",
            "172/172 [==============================] - 3s 16ms/step - loss: 0.5218 - val_loss: 0.5708\n",
            "Epoch 126/400\n",
            "172/172 [==============================] - 2s 14ms/step - loss: 0.5213 - val_loss: 0.5708\n",
            "Epoch 127/400\n",
            "172/172 [==============================] - 2s 14ms/step - loss: 0.5210 - val_loss: 0.5707\n",
            "Epoch 128/400\n",
            "172/172 [==============================] - 2s 14ms/step - loss: 0.5206 - val_loss: 0.5705\n",
            "Epoch 129/400\n",
            "172/172 [==============================] - 3s 15ms/step - loss: 0.5202 - val_loss: 0.5703\n",
            "Epoch 130/400\n",
            "172/172 [==============================] - 2s 14ms/step - loss: 0.5198 - val_loss: 0.5704\n",
            "Epoch 131/400\n",
            "172/172 [==============================] - 3s 15ms/step - loss: 0.5193 - val_loss: 0.5703\n",
            "Epoch 132/400\n",
            "172/172 [==============================] - 3s 15ms/step - loss: 0.5190 - val_loss: 0.5702\n",
            "Epoch 133/400\n",
            "172/172 [==============================] - 2s 14ms/step - loss: 0.5187 - val_loss: 0.5700\n",
            "Epoch 134/400\n",
            "172/172 [==============================] - 3s 15ms/step - loss: 0.5183 - val_loss: 0.5698\n",
            "Epoch 135/400\n",
            "172/172 [==============================] - 3s 15ms/step - loss: 0.5178 - val_loss: 0.5699\n",
            "Epoch 136/400\n",
            "172/172 [==============================] - 2s 14ms/step - loss: 0.5175 - val_loss: 0.5697\n",
            "Epoch 137/400\n",
            "172/172 [==============================] - 3s 15ms/step - loss: 0.5172 - val_loss: 0.5696\n",
            "Epoch 138/400\n",
            "172/172 [==============================] - 3s 16ms/step - loss: 0.5167 - val_loss: 0.5695\n",
            "Epoch 139/400\n",
            "172/172 [==============================] - 3s 16ms/step - loss: 0.5164 - val_loss: 0.5694\n",
            "Epoch 140/400\n",
            "172/172 [==============================] - 2s 14ms/step - loss: 0.5160 - val_loss: 0.5694\n",
            "Epoch 141/400\n",
            "172/172 [==============================] - 3s 15ms/step - loss: 0.5157 - val_loss: 0.5694\n",
            "Epoch 142/400\n",
            "172/172 [==============================] - 3s 15ms/step - loss: 0.5153 - val_loss: 0.5692\n",
            "Epoch 143/400\n",
            "172/172 [==============================] - 2s 14ms/step - loss: 0.5150 - val_loss: 0.5692\n",
            "Epoch 144/400\n",
            "172/172 [==============================] - 3s 15ms/step - loss: 0.5146 - val_loss: 0.5691\n",
            "Epoch 145/400\n",
            "172/172 [==============================] - 3s 15ms/step - loss: 0.5142 - val_loss: 0.5690\n",
            "Epoch 146/400\n",
            "172/172 [==============================] - 2s 13ms/step - loss: 0.5139 - val_loss: 0.5688\n",
            "Epoch 147/400\n",
            "172/172 [==============================] - 2s 12ms/step - loss: 0.5136 - val_loss: 0.5688\n",
            "Epoch 148/400\n",
            "172/172 [==============================] - 2s 13ms/step - loss: 0.5132 - val_loss: 0.5687\n",
            "Epoch 149/400\n",
            "172/172 [==============================] - 3s 15ms/step - loss: 0.5129 - val_loss: 0.5687\n",
            "Epoch 150/400\n",
            "172/172 [==============================] - 3s 15ms/step - loss: 0.5125 - val_loss: 0.5686\n",
            "Epoch 151/400\n",
            "172/172 [==============================] - 2s 13ms/step - loss: 0.5122 - val_loss: 0.5685\n",
            "Epoch 152/400\n",
            "172/172 [==============================] - 2s 15ms/step - loss: 0.5119 - val_loss: 0.5684\n",
            "Epoch 153/400\n",
            "172/172 [==============================] - 2s 14ms/step - loss: 0.5115 - val_loss: 0.5684\n",
            "Epoch 154/400\n",
            "172/172 [==============================] - 2s 14ms/step - loss: 0.5113 - val_loss: 0.5682\n",
            "Epoch 155/400\n",
            "172/172 [==============================] - 2s 14ms/step - loss: 0.5109 - val_loss: 0.5683\n",
            "Epoch 156/400\n",
            "172/172 [==============================] - 2s 14ms/step - loss: 0.5106 - val_loss: 0.5683\n",
            "Epoch 157/400\n",
            "172/172 [==============================] - 3s 15ms/step - loss: 0.5103 - val_loss: 0.5682\n",
            "Epoch 158/400\n",
            "172/172 [==============================] - 2s 13ms/step - loss: 0.5100 - val_loss: 0.5682\n",
            "Epoch 159/400\n",
            "172/172 [==============================] - 2s 12ms/step - loss: 0.5096 - val_loss: 0.5681\n",
            "Epoch 160/400\n",
            "172/172 [==============================] - 2s 14ms/step - loss: 0.5093 - val_loss: 0.5679\n",
            "Epoch 161/400\n",
            "172/172 [==============================] - 2s 13ms/step - loss: 0.5090 - val_loss: 0.5678\n",
            "Epoch 162/400\n",
            "172/172 [==============================] - 2s 13ms/step - loss: 0.5088 - val_loss: 0.5678\n",
            "Epoch 163/400\n",
            "172/172 [==============================] - 2s 14ms/step - loss: 0.5085 - val_loss: 0.5677\n",
            "Epoch 164/400\n",
            "172/172 [==============================] - 2s 14ms/step - loss: 0.5081 - val_loss: 0.5676\n",
            "Epoch 165/400\n",
            "172/172 [==============================] - 2s 14ms/step - loss: 0.5078 - val_loss: 0.5675\n",
            "Epoch 166/400\n",
            "172/172 [==============================] - 2s 13ms/step - loss: 0.5075 - val_loss: 0.5675\n",
            "Epoch 167/400\n",
            "172/172 [==============================] - 2s 12ms/step - loss: 0.5073 - val_loss: 0.5674\n",
            "Epoch 168/400\n",
            "172/172 [==============================] - 2s 14ms/step - loss: 0.5069 - val_loss: 0.5673\n",
            "Epoch 169/400\n",
            "172/172 [==============================] - 2s 13ms/step - loss: 0.5066 - val_loss: 0.5674\n",
            "Epoch 170/400\n",
            "172/172 [==============================] - 3s 15ms/step - loss: 0.5064 - val_loss: 0.5671\n",
            "Epoch 171/400\n",
            "172/172 [==============================] - 3s 15ms/step - loss: 0.5059 - val_loss: 0.5671\n",
            "Epoch 172/400\n",
            "172/172 [==============================] - 2s 12ms/step - loss: 0.5058 - val_loss: 0.5671\n",
            "Epoch 173/400\n",
            "172/172 [==============================] - 2s 14ms/step - loss: 0.5055 - val_loss: 0.5670\n",
            "Epoch 174/400\n",
            "172/172 [==============================] - 2s 13ms/step - loss: 0.5052 - val_loss: 0.5670\n",
            "Epoch 175/400\n",
            "172/172 [==============================] - 2s 14ms/step - loss: 0.5048 - val_loss: 0.5669\n",
            "Epoch 176/400\n",
            "172/172 [==============================] - 2s 12ms/step - loss: 0.5047 - val_loss: 0.5668\n",
            "Epoch 177/400\n",
            "172/172 [==============================] - 2s 14ms/step - loss: 0.5043 - val_loss: 0.5669\n",
            "Epoch 178/400\n",
            "172/172 [==============================] - 2s 14ms/step - loss: 0.5040 - val_loss: 0.5669\n",
            "Epoch 179/400\n",
            "172/172 [==============================] - 2s 14ms/step - loss: 0.5038 - val_loss: 0.5667\n",
            "Epoch 180/400\n",
            "172/172 [==============================] - 3s 15ms/step - loss: 0.5034 - val_loss: 0.5667\n",
            "Epoch 181/400\n",
            "172/172 [==============================] - 3s 15ms/step - loss: 0.5032 - val_loss: 0.5665\n",
            "Epoch 182/400\n",
            "172/172 [==============================] - 2s 12ms/step - loss: 0.5029 - val_loss: 0.5667\n",
            "Epoch 183/400\n",
            "172/172 [==============================] - 3s 15ms/step - loss: 0.5027 - val_loss: 0.5667\n",
            "Epoch 184/400\n",
            "172/172 [==============================] - 3s 15ms/step - loss: 0.5025 - val_loss: 0.5664\n",
            "Epoch 185/400\n",
            "172/172 [==============================] - 3s 15ms/step - loss: 0.5021 - val_loss: 0.5665\n",
            "Epoch 186/400\n",
            "172/172 [==============================] - 3s 16ms/step - loss: 0.5019 - val_loss: 0.5665\n",
            "Epoch 187/400\n",
            "172/172 [==============================] - 3s 15ms/step - loss: 0.5016 - val_loss: 0.5665\n",
            "Epoch 188/400\n",
            "172/172 [==============================] - 2s 14ms/step - loss: 0.5013 - val_loss: 0.5663\n",
            "Epoch 189/400\n",
            "172/172 [==============================] - 3s 16ms/step - loss: 0.5011 - val_loss: 0.5662\n",
            "Epoch 190/400\n",
            "172/172 [==============================] - 3s 15ms/step - loss: 0.5008 - val_loss: 0.5662\n",
            "Epoch 191/400\n",
            "172/172 [==============================] - 3s 16ms/step - loss: 0.5005 - val_loss: 0.5663\n",
            "Epoch 192/400\n",
            "172/172 [==============================] - 3s 16ms/step - loss: 0.5003 - val_loss: 0.5662\n",
            "Epoch 193/400\n",
            "172/172 [==============================] - 3s 16ms/step - loss: 0.5001 - val_loss: 0.5660\n",
            "Epoch 194/400\n",
            "172/172 [==============================] - 2s 13ms/step - loss: 0.4997 - val_loss: 0.5660\n",
            "Epoch 195/400\n",
            "172/172 [==============================] - 2s 13ms/step - loss: 0.4995 - val_loss: 0.5658\n",
            "Epoch 196/400\n",
            "172/172 [==============================] - 2s 13ms/step - loss: 0.4993 - val_loss: 0.5658\n",
            "Epoch 197/400\n",
            "172/172 [==============================] - 2s 13ms/step - loss: 0.4991 - val_loss: 0.5658\n",
            "Epoch 198/400\n",
            "172/172 [==============================] - 2s 14ms/step - loss: 0.4988 - val_loss: 0.5657\n",
            "Epoch 199/400\n",
            "172/172 [==============================] - 2s 14ms/step - loss: 0.4985 - val_loss: 0.5657\n",
            "Epoch 200/400\n",
            "172/172 [==============================] - 2s 14ms/step - loss: 0.4983 - val_loss: 0.5656\n",
            "Epoch 201/400\n",
            "172/172 [==============================] - 2s 13ms/step - loss: 0.4981 - val_loss: 0.5656\n",
            "Epoch 202/400\n",
            "172/172 [==============================] - 3s 15ms/step - loss: 0.4978 - val_loss: 0.5656\n",
            "Epoch 203/400\n",
            "172/172 [==============================] - 2s 14ms/step - loss: 0.4975 - val_loss: 0.5656\n",
            "Epoch 204/400\n",
            "172/172 [==============================] - 2s 14ms/step - loss: 0.4973 - val_loss: 0.5656\n",
            "Epoch 205/400\n",
            "172/172 [==============================] - 3s 15ms/step - loss: 0.4971 - val_loss: 0.5655\n",
            "Epoch 206/400\n",
            "172/172 [==============================] - 3s 15ms/step - loss: 0.4968 - val_loss: 0.5655\n",
            "Epoch 207/400\n",
            "172/172 [==============================] - 3s 15ms/step - loss: 0.4965 - val_loss: 0.5654\n",
            "Epoch 208/400\n",
            "172/172 [==============================] - 3s 16ms/step - loss: 0.4963 - val_loss: 0.5653\n",
            "Epoch 209/400\n",
            "172/172 [==============================] - 3s 16ms/step - loss: 0.4961 - val_loss: 0.5652\n",
            "Epoch 210/400\n",
            "172/172 [==============================] - 2s 14ms/step - loss: 0.4958 - val_loss: 0.5652\n",
            "Epoch 211/400\n",
            "172/172 [==============================] - 2s 13ms/step - loss: 0.4956 - val_loss: 0.5653\n",
            "Epoch 212/400\n",
            "172/172 [==============================] - 2s 14ms/step - loss: 0.4954 - val_loss: 0.5652\n",
            "Epoch 213/400\n",
            "172/172 [==============================] - 2s 13ms/step - loss: 0.4951 - val_loss: 0.5651\n",
            "Epoch 214/400\n",
            "172/172 [==============================] - 2s 13ms/step - loss: 0.4949 - val_loss: 0.5651\n",
            "Epoch 215/400\n",
            "172/172 [==============================] - 2s 12ms/step - loss: 0.4946 - val_loss: 0.5650\n",
            "Epoch 216/400\n",
            "172/172 [==============================] - 3s 15ms/step - loss: 0.4944 - val_loss: 0.5649\n",
            "Epoch 217/400\n",
            "172/172 [==============================] - 3s 15ms/step - loss: 0.4941 - val_loss: 0.5651\n",
            "Epoch 218/400\n",
            "172/172 [==============================] - 2s 14ms/step - loss: 0.4940 - val_loss: 0.5649\n",
            "Epoch 219/400\n",
            "172/172 [==============================] - 2s 14ms/step - loss: 0.4936 - val_loss: 0.5649\n",
            "Epoch 220/400\n",
            "172/172 [==============================] - 3s 16ms/step - loss: 0.4935 - val_loss: 0.5648\n",
            "Epoch 221/400\n",
            "172/172 [==============================] - 3s 16ms/step - loss: 0.4932 - val_loss: 0.5649\n",
            "Epoch 222/400\n",
            "172/172 [==============================] - 3s 15ms/step - loss: 0.4930 - val_loss: 0.5650\n",
            "Epoch 223/400\n",
            "172/172 [==============================] - 2s 14ms/step - loss: 0.4928 - val_loss: 0.5650\n",
            "Epoch 224/400\n",
            "172/172 [==============================] - 2s 14ms/step - loss: 0.4926 - val_loss: 0.5650\n",
            "Epoch 225/400\n",
            "172/172 [==============================] - 2s 13ms/step - loss: 0.4924 - val_loss: 0.5649\n"
          ],
          "name": "stdout"
        }
      ]
    },
    {
      "cell_type": "code",
      "metadata": {
        "id": "SDCRLtoMLJbY",
        "colab": {
          "base_uri": "https://localhost:8080/",
          "height": 297
        },
        "outputId": "1dc5b71f-94bd-48c6-fa90-4a545c80a476"
      },
      "source": [
        "preds_on_trained = model.predict(X_test)\n",
        "#ys=y_stdv*tf.ones_like(y_test)\n",
        "#ya=y_avg*tf.ones_like(y_test)\n",
        "#y_test=y_test*ys + ya\n",
        "plt.scatter(preds_on_trained[:],y_test[:])\n",
        "plt.ylabel('Y test')\n",
        "plt.xlabel('prediction')\n",
        "plt.scatter(y_test,y_test)\n",
        "plt.legend(['trained', 'actual'], loc='upper left')"
      ],
      "execution_count": null,
      "outputs": [
        {
          "output_type": "execute_result",
          "data": {
            "text/plain": [
              "<matplotlib.legend.Legend at 0x7f9966efb128>"
            ]
          },
          "metadata": {
            "tags": []
          },
          "execution_count": 159
        },
        {
          "output_type": "display_data",
          "data": {
            "image/png": "[encoded data removed]",
            "text/plain": [
              "<Figure size 432x288 with 1 Axes>"
            ]
          },
          "metadata": {
            "tags": [],
            "needs_background": "light"
          }
        }
      ]
    },
    {
      "cell_type": "code",
      "metadata": {
        "id": "ITgZSYXgKq8u",
        "colab": {
          "base_uri": "https://localhost:8080/",
          "height": 295
        },
        "outputId": "3fc95efb-ff36-4880-9dff-87da947dc34e"
      },
      "source": [
        "plt.plot(history.history['loss'])\n",
        "plt.plot(history.history['val_loss'])\n",
        "plt.title('model accuracy')\n",
        "plt.ylabel('loss')\n",
        "plt.xlabel('epoch')\n",
        "plt.legend(['train', 'val'], loc='upper left')\n",
        "plt.show()"
      ],
      "execution_count": null,
      "outputs": [
        {
          "output_type": "display_data",
          "data": {
            "image/png": "[encoded data removed]",
            "text/plain": [
              "<Figure size 432x288 with 1 Axes>"
            ]
          },
          "metadata": {
            "tags": [],
            "needs_background": "light"
          }
        }
      ]
    },
    {
      "cell_type": "code",
      "metadata": {
        "id": "jOG9SHas7f3Q",
        "colab": {
          "base_uri": "https://localhost:8080/",
          "height": 54
        },
        "outputId": "0337a87c-aec7-4df6-d54d-27d54047bf78"
      },
      "source": [
        "'''\n",
        "do not change this code\n",
        "the snippet generates the accuracy of the model\n",
        "'''\n",
        "\n",
        "#tolerance range\n",
        "check = 0.002/y_avg\n",
        "\n",
        "# findinf the error on the predictions\n",
        "y_test = list(y_test)\n",
        "y_train = list(y_train)\n",
        "err_test = [x-y for x,y in zip(pred_test,y_test)]\n",
        "err_train = [x-y for x,y in zip(pred_train,y_train)]\n",
        "\n",
        "# finding the strike rates on the datasets\n",
        "strike_rate_test = 100*sum([np.abs(x)<=check for x in err_test])/len(err_test)\n",
        "strike_rate_train = 100*sum([np.abs(x)<=check for x in err_train])/len(err_train)\n",
        "\n",
        "# printint the results\n",
        "print(\"Test strike rate : {}\\nTrain strike rate : {}\".format(strike_rate_test,strike_rate_train))\n"
      ],
      "execution_count": null,
      "outputs": [
        {
          "output_type": "stream",
          "text": [
            "Test strike rate : [29.18032787]\n",
            "Train strike rate : [18.36065574]\n"
          ],
          "name": "stdout"
        }
      ]
    },
    {
      "cell_type": "code",
      "metadata": {
        "id": "I4tZQxaO7xZx"
      },
      "source": [
        "'''\n",
        "do not change this code\n",
        "the snippet saves the model generated\n",
        "change the name of the file below to your team name\n",
        "you should submit both the code and the file generated using the code below\n",
        "'''\n",
        "save_object = (model,test_model,strike_rate_test,strike_rate_train,random_seed)\n",
        "pickle_out = open(\"team_name.pkl\",\"wb\")\n",
        "pickle.dump(save_object, pickle_out)\n",
        "pickle_out.close()"
      ],
      "execution_count": null,
      "outputs": []
    },
    {
      "cell_type": "code",
      "metadata": {
        "id": "azOIRjPa8BiX"
      },
      "source": [
        ""
      ],
      "execution_count": null,
      "outputs": []
    }
  ]
}